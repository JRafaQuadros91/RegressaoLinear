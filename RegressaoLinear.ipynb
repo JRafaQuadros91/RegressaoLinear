{
  "nbformat": 4,
  "nbformat_minor": 0,
  "metadata": {
    "kernelspec": {
      "display_name": "Python 3",
      "language": "python",
      "name": "python3"
    },
    "language_info": {
      "codemirror_mode": {
        "name": "ipython",
        "version": 3
      },
      "file_extension": ".py",
      "mimetype": "text/x-python",
      "name": "python",
      "nbconvert_exporter": "python",
      "pygments_lexer": "ipython3",
      "version": "3.6.8"
    },
    "colab": {
      "name": "Cópia de João Rafael - T3-1.ipynb",
      "provenance": [],
      "collapsed_sections": [],
      "include_colab_link": true
    }
  },
  "cells": [
    {
      "cell_type": "markdown",
      "metadata": {
        "id": "view-in-github",
        "colab_type": "text"
      },
      "source": [
        "<a href=\"https://colab.research.google.com/github/JRafaQuadros91/RegressaoLinear/blob/main/RegressaoLinear.ipynb\" target=\"_parent\"><img src=\"https://colab.research.google.com/assets/colab-badge.svg\" alt=\"Open In Colab\"/></a>"
      ]
    },
    {
      "cell_type": "markdown",
      "metadata": {
        "id": "5Gn0mJpxyk_6"
      },
      "source": [
        "1. Qual é o valor estimado do condomínio de um apartamento que custa 90 mil reais no bairro da Tijuca?\n",
        "    1. Apresente o gráfico de dispersão dos dados, em conjunto com:\n",
        "        - a reta que representa a regressão linear entre as duas variáveis consideradas, contendo\n",
        "        - um ponto destacando o valor estimado para o valor de apartamento de 90 mil reais"
      ]
    },
    {
      "cell_type": "code",
      "metadata": {
        "colab": {
          "base_uri": "https://localhost:8080/"
        },
        "id": "WZcBed65bAy4",
        "outputId": "4128699f-eaac-41c5-982d-34d39b08ecd2"
      },
      "source": [
        "import numpy as np \n",
        "import pandas as pd \n",
        "import matplotlib.pyplot as plt \n",
        "from sklearn.linear_model import LinearRegression \n",
        "from sklearn import metrics \n",
        "%matplotlib inline \n",
        "\n",
        "\n",
        "\n",
        "# Diretório com dados de entrada\n",
        "DATAPATH = './' \n",
        "\n",
        "# Verifica se está no colab\n",
        "COLAB = 'google.colab' in str(get_ipython())\n",
        "if COLAB:\n",
        "    print('Executando no Google Colaboratory.')\n",
        "\n",
        "    #Diretório com dados de entrada\n",
        "    DATAPATH='/drive/Shared drives/BasesPublicas/Bases/Exemplos/' \n",
        "\n",
        "    print('Solicitando acesso a arquivos...')\n",
        "    from google.colab import drive\n",
        "    drive.mount('/drive')"
      ],
      "execution_count": null,
      "outputs": [
        {
          "output_type": "stream",
          "name": "stdout",
          "text": [
            "Executando no Google Colaboratory.\n",
            "Solicitando acesso a arquivos...\n",
            "Mounted at /drive\n"
          ]
        }
      ]
    },
    {
      "cell_type": "code",
      "metadata": {
        "id": "fvDwQOk-yk_7"
      },
      "source": [
        "rioAptos = pd.read_csv(DATAPATH+'rioAptos.csv')"
      ],
      "execution_count": null,
      "outputs": []
    },
    {
      "cell_type": "code",
      "metadata": {
        "colab": {
          "base_uri": "https://localhost:8080/",
          "height": 200
        },
        "id": "J_OhFqZjdIsU",
        "outputId": "c50eb09e-9c87-40c9-cdaf-853b1b363066"
      },
      "source": [
        "rioAptos.head()"
      ],
      "execution_count": null,
      "outputs": [
        {
          "output_type": "execute_result",
          "data": {
            "text/html": [
              "<div>\n",
              "<style scoped>\n",
              "    .dataframe tbody tr th:only-of-type {\n",
              "        vertical-align: middle;\n",
              "    }\n",
              "\n",
              "    .dataframe tbody tr th {\n",
              "        vertical-align: top;\n",
              "    }\n",
              "\n",
              "    .dataframe thead th {\n",
              "        text-align: right;\n",
              "    }\n",
              "</style>\n",
              "<table border=\"1\" class=\"dataframe\">\n",
              "  <thead>\n",
              "    <tr style=\"text-align: right;\">\n",
              "      <th></th>\n",
              "      <th>condominio</th>\n",
              "      <th>quartos</th>\n",
              "      <th>suites</th>\n",
              "      <th>vagas</th>\n",
              "      <th>area</th>\n",
              "      <th>bairro</th>\n",
              "      <th>preco</th>\n",
              "      <th>pm2</th>\n",
              "    </tr>\n",
              "  </thead>\n",
              "  <tbody>\n",
              "    <tr>\n",
              "      <th>0</th>\n",
              "      <td>350</td>\n",
              "      <td>1</td>\n",
              "      <td>0.0</td>\n",
              "      <td>1.0</td>\n",
              "      <td>21</td>\n",
              "      <td>Botafogo</td>\n",
              "      <td>340000</td>\n",
              "      <td>16190.48</td>\n",
              "    </tr>\n",
              "    <tr>\n",
              "      <th>1</th>\n",
              "      <td>800</td>\n",
              "      <td>1</td>\n",
              "      <td>0.0</td>\n",
              "      <td>1.0</td>\n",
              "      <td>64</td>\n",
              "      <td>Botafogo</td>\n",
              "      <td>770000</td>\n",
              "      <td>12031.25</td>\n",
              "    </tr>\n",
              "    <tr>\n",
              "      <th>2</th>\n",
              "      <td>674</td>\n",
              "      <td>1</td>\n",
              "      <td>0.0</td>\n",
              "      <td>1.0</td>\n",
              "      <td>61</td>\n",
              "      <td>Botafogo</td>\n",
              "      <td>600000</td>\n",
              "      <td>9836.07</td>\n",
              "    </tr>\n",
              "    <tr>\n",
              "      <th>3</th>\n",
              "      <td>700</td>\n",
              "      <td>1</td>\n",
              "      <td>1.0</td>\n",
              "      <td>1.0</td>\n",
              "      <td>70</td>\n",
              "      <td>Botafogo</td>\n",
              "      <td>700000</td>\n",
              "      <td>10000.00</td>\n",
              "    </tr>\n",
              "    <tr>\n",
              "      <th>4</th>\n",
              "      <td>440</td>\n",
              "      <td>1</td>\n",
              "      <td>0.0</td>\n",
              "      <td>1.0</td>\n",
              "      <td>44</td>\n",
              "      <td>Botafogo</td>\n",
              "      <td>515000</td>\n",
              "      <td>11704.55</td>\n",
              "    </tr>\n",
              "  </tbody>\n",
              "</table>\n",
              "</div>"
            ],
            "text/plain": [
              "   condominio  quartos  suites  vagas  area    bairro   preco       pm2\n",
              "0         350        1     0.0    1.0    21  Botafogo  340000  16190.48\n",
              "1         800        1     0.0    1.0    64  Botafogo  770000  12031.25\n",
              "2         674        1     0.0    1.0    61  Botafogo  600000   9836.07\n",
              "3         700        1     1.0    1.0    70  Botafogo  700000  10000.00\n",
              "4         440        1     0.0    1.0    44  Botafogo  515000  11704.55"
            ]
          },
          "metadata": {},
          "execution_count": 88
        }
      ]
    },
    {
      "cell_type": "code",
      "metadata": {
        "id": "ppqAdWPxpN62"
      },
      "source": [
        "rioAptosTijuca = rioAptos[rioAptos['bairro']=='Tijuca']"
      ],
      "execution_count": null,
      "outputs": []
    },
    {
      "cell_type": "code",
      "metadata": {
        "colab": {
          "base_uri": "https://localhost:8080/",
          "height": 200
        },
        "id": "7fs_NLWPpbF8",
        "outputId": "ddf751a8-f499-4376-b2f4-87cfe7830dd0"
      },
      "source": [
        "rioAptosTijuca.head()"
      ],
      "execution_count": null,
      "outputs": [
        {
          "output_type": "execute_result",
          "data": {
            "text/html": [
              "<div>\n",
              "<style scoped>\n",
              "    .dataframe tbody tr th:only-of-type {\n",
              "        vertical-align: middle;\n",
              "    }\n",
              "\n",
              "    .dataframe tbody tr th {\n",
              "        vertical-align: top;\n",
              "    }\n",
              "\n",
              "    .dataframe thead th {\n",
              "        text-align: right;\n",
              "    }\n",
              "</style>\n",
              "<table border=\"1\" class=\"dataframe\">\n",
              "  <thead>\n",
              "    <tr style=\"text-align: right;\">\n",
              "      <th></th>\n",
              "      <th>condominio</th>\n",
              "      <th>quartos</th>\n",
              "      <th>suites</th>\n",
              "      <th>vagas</th>\n",
              "      <th>area</th>\n",
              "      <th>bairro</th>\n",
              "      <th>preco</th>\n",
              "      <th>pm2</th>\n",
              "    </tr>\n",
              "  </thead>\n",
              "  <tbody>\n",
              "    <tr>\n",
              "      <th>566</th>\n",
              "      <td>400</td>\n",
              "      <td>1</td>\n",
              "      <td>0.0</td>\n",
              "      <td>1.0</td>\n",
              "      <td>50</td>\n",
              "      <td>Tijuca</td>\n",
              "      <td>300000</td>\n",
              "      <td>6000.00</td>\n",
              "    </tr>\n",
              "    <tr>\n",
              "      <th>567</th>\n",
              "      <td>424</td>\n",
              "      <td>1</td>\n",
              "      <td>0.0</td>\n",
              "      <td>1.0</td>\n",
              "      <td>53</td>\n",
              "      <td>Tijuca</td>\n",
              "      <td>470000</td>\n",
              "      <td>8867.92</td>\n",
              "    </tr>\n",
              "    <tr>\n",
              "      <th>568</th>\n",
              "      <td>350</td>\n",
              "      <td>1</td>\n",
              "      <td>0.0</td>\n",
              "      <td>1.0</td>\n",
              "      <td>50</td>\n",
              "      <td>Tijuca</td>\n",
              "      <td>400000</td>\n",
              "      <td>8000.00</td>\n",
              "    </tr>\n",
              "    <tr>\n",
              "      <th>569</th>\n",
              "      <td>390</td>\n",
              "      <td>1</td>\n",
              "      <td>0.0</td>\n",
              "      <td>1.0</td>\n",
              "      <td>50</td>\n",
              "      <td>Tijuca</td>\n",
              "      <td>339000</td>\n",
              "      <td>6780.00</td>\n",
              "    </tr>\n",
              "    <tr>\n",
              "      <th>570</th>\n",
              "      <td>264</td>\n",
              "      <td>1</td>\n",
              "      <td>0.0</td>\n",
              "      <td>1.0</td>\n",
              "      <td>35</td>\n",
              "      <td>Tijuca</td>\n",
              "      <td>380000</td>\n",
              "      <td>10857.14</td>\n",
              "    </tr>\n",
              "  </tbody>\n",
              "</table>\n",
              "</div>"
            ],
            "text/plain": [
              "     condominio  quartos  suites  vagas  area  bairro   preco       pm2\n",
              "566         400        1     0.0    1.0    50  Tijuca  300000   6000.00\n",
              "567         424        1     0.0    1.0    53  Tijuca  470000   8867.92\n",
              "568         350        1     0.0    1.0    50  Tijuca  400000   8000.00\n",
              "569         390        1     0.0    1.0    50  Tijuca  339000   6780.00\n",
              "570         264        1     0.0    1.0    35  Tijuca  380000  10857.14"
            ]
          },
          "metadata": {},
          "execution_count": 91
        }
      ]
    },
    {
      "cell_type": "code",
      "metadata": {
        "colab": {
          "base_uri": "https://localhost:8080/",
          "height": 293
        },
        "id": "ML5eJ4-KgXo5",
        "outputId": "3cc2220f-a850-4f5b-ba82-6941dada7bbf"
      },
      "source": [
        "x = rioAptosTijuca['preco']\n",
        "y = rioAptosTijuca['condominio']\n",
        "plt.scatter(x,y)"
      ],
      "execution_count": null,
      "outputs": [
        {
          "output_type": "execute_result",
          "data": {
            "text/plain": [
              "<matplotlib.collections.PathCollection at 0x7f1f1224ac50>"
            ]
          },
          "metadata": {},
          "execution_count": 92
        },
        {
          "output_type": "display_data",
          "data": {
            "image/png": "[encoded data removed]",
            "text/plain": [
              "<Figure size 432x288 with 1 Axes>"
            ]
          },
          "metadata": {
            "needs_background": "light"
          }
        }
      ]
    },
    {
      "cell_type": "code",
      "metadata": {
        "id": "Fwi_isuAhZGy"
      },
      "source": [
        "riolrex1 = LinearRegression()"
      ],
      "execution_count": null,
      "outputs": []
    },
    {
      "cell_type": "code",
      "metadata": {
        "id": "WtzejliqiBNb"
      },
      "source": [
        "preco = rioAptosTijuca['preco'].values.reshape(-1,1) #variável independente\n",
        "condominio  = rioAptosTijuca['condominio'].values.flatten()      #variável dependente"
      ],
      "execution_count": null,
      "outputs": []
    },
    {
      "cell_type": "code",
      "metadata": {
        "colab": {
          "base_uri": "https://localhost:8080/"
        },
        "id": "ahAnBLtmiSRK",
        "outputId": "3ea4b084-3623-4397-bec6-5550a89f41e7"
      },
      "source": [
        "riolrex1.fit(preco,condominio)"
      ],
      "execution_count": null,
      "outputs": [
        {
          "output_type": "execute_result",
          "data": {
            "text/plain": [
              "LinearRegression(copy_X=True, fit_intercept=True, n_jobs=None, normalize=False)"
            ]
          },
          "metadata": {},
          "execution_count": 95
        }
      ]
    },
    {
      "cell_type": "code",
      "metadata": {
        "colab": {
          "base_uri": "https://localhost:8080/"
        },
        "id": "6sbI8r3oj3jQ",
        "outputId": "f2fb60d9-feff-43d6-c00e-7651471ae0b8"
      },
      "source": [
        "x = [90000] #Valor para a variável independente\n",
        "x_arr = np.array(x).reshape(-1,1) #prepara para o formato adequado\n",
        "y_pred  = riolrex1.predict(x_arr) #calcula a predição\n",
        "print('Preco: ',x_arr.flatten())\n",
        "print('Condominio : ', y_pred.flatten())"
      ],
      "execution_count": null,
      "outputs": [
        {
          "output_type": "stream",
          "name": "stdout",
          "text": [
            "Preco:  [90000]\n",
            "Condominio :  [248.98648215]\n"
          ]
        }
      ]
    },
    {
      "cell_type": "code",
      "metadata": {
        "id": "ija5C8ellcKo"
      },
      "source": [
        "rioAptosprecoex1 = rioAptosTijuca['preco']\n",
        "rioAptoscondex1 = rioAptosTijuca['condominio']"
      ],
      "execution_count": null,
      "outputs": []
    },
    {
      "cell_type": "code",
      "metadata": {
        "colab": {
          "base_uri": "https://localhost:8080/"
        },
        "id": "_fd0Q8t4lyPA",
        "outputId": "37ccb7b8-96e2-4612-fd71-15133750fb27"
      },
      "source": [
        "rioAptosprecoex1.max()"
      ],
      "execution_count": null,
      "outputs": [
        {
          "output_type": "execute_result",
          "data": {
            "text/plain": [
              "1600000"
            ]
          },
          "metadata": {},
          "execution_count": 126
        }
      ]
    },
    {
      "cell_type": "code",
      "metadata": {
        "colab": {
          "base_uri": "https://localhost:8080/"
        },
        "id": "Lj8wLa7Ml3C1",
        "outputId": "d979bcef-062f-47de-de20-95a63b8e3cb2"
      },
      "source": [
        "rioAptosprecoex1.min()"
      ],
      "execution_count": null,
      "outputs": [
        {
          "output_type": "execute_result",
          "data": {
            "text/plain": [
              "205000"
            ]
          },
          "metadata": {},
          "execution_count": 127
        }
      ]
    },
    {
      "cell_type": "code",
      "metadata": {
        "colab": {
          "base_uri": "https://localhost:8080/"
        },
        "id": "CcCvN6yvl6zK",
        "outputId": "5ad02ff5-6869-4546-964a-91cb4e364396"
      },
      "source": [
        "rioAptoscondex1.max()"
      ],
      "execution_count": null,
      "outputs": [
        {
          "output_type": "execute_result",
          "data": {
            "text/plain": [
              "1850"
            ]
          },
          "metadata": {},
          "execution_count": 128
        }
      ]
    },
    {
      "cell_type": "code",
      "metadata": {
        "colab": {
          "base_uri": "https://localhost:8080/"
        },
        "id": "R_xHcSmul6po",
        "outputId": "13800677-940a-497a-b098-bb5db3d9f5fa"
      },
      "source": [
        "rioAptoscondex1.min()"
      ],
      "execution_count": null,
      "outputs": [
        {
          "output_type": "execute_result",
          "data": {
            "text/plain": [
              "120"
            ]
          },
          "metadata": {},
          "execution_count": 129
        }
      ]
    },
    {
      "cell_type": "markdown",
      "metadata": {
        "id": "4a6BO5ghm1PD"
      },
      "source": [
        "Resposta Exercicio 1 : "
      ]
    },
    {
      "cell_type": "code",
      "metadata": {
        "colab": {
          "base_uri": "https://localhost:8080/",
          "height": 305
        },
        "id": "ymdI5fBLkSy2",
        "outputId": "86f17a60-fe10-4898-a545-0821a914f3ee"
      },
      "source": [
        "plt.scatter(rioAptosTijuca['preco'], rioAptosTijuca['condominio'])\n",
        "plt.scatter([90000],[248.98648215], color='red')\n",
        "plt.plot([205000,120],[1600000,1850], color='green')\n"
      ],
      "execution_count": null,
      "outputs": [
        {
          "output_type": "execute_result",
          "data": {
            "text/plain": [
              "[<matplotlib.lines.Line2D at 0x7f1f1220f790>]"
            ]
          },
          "metadata": {},
          "execution_count": 130
        },
        {
          "output_type": "display_data",
          "data": {
            "image/png": "[encoded data removed]",
            "text/plain": [
              "<Figure size 432x288 with 1 Axes>"
            ]
          },
          "metadata": {
            "needs_background": "light"
          }
        }
      ]
    },
    {
      "cell_type": "markdown",
      "metadata": {
        "id": "pMJ7qDBRy42o"
      },
      "source": [
        "2. Se o valor do condomínio de determinado apartamento situado no bairro do Leblon é mil reais, qual seria o valor aproximado do apartamento?\n",
        "    1. Apresente o gráfico de dispersão dos dados, em conjunto com:\n",
        "        - a reta que representa a regressão linear entre as duas variáveis consideradas, contendo\n",
        "        - um ponto destacando o valor estimado para o valor de apartamento com condomínio de mil reais"
      ]
    },
    {
      "cell_type": "code",
      "metadata": {
        "id": "uK3mVCK5rNQf"
      },
      "source": [
        "rioAptosLeblon = rioAptos[rioAptos['bairro']=='Leblon']"
      ],
      "execution_count": null,
      "outputs": []
    },
    {
      "cell_type": "code",
      "metadata": {
        "colab": {
          "base_uri": "https://localhost:8080/",
          "height": 200
        },
        "id": "4boeCWBMrWM6",
        "outputId": "aa94a4bd-8cfd-4352-8b83-70a87e5969ae"
      },
      "source": [
        "rioAptosLeblon.head()"
      ],
      "execution_count": null,
      "outputs": [
        {
          "output_type": "execute_result",
          "data": {
            "text/html": [
              "<div>\n",
              "<style scoped>\n",
              "    .dataframe tbody tr th:only-of-type {\n",
              "        vertical-align: middle;\n",
              "    }\n",
              "\n",
              "    .dataframe tbody tr th {\n",
              "        vertical-align: top;\n",
              "    }\n",
              "\n",
              "    .dataframe thead th {\n",
              "        text-align: right;\n",
              "    }\n",
              "</style>\n",
              "<table border=\"1\" class=\"dataframe\">\n",
              "  <thead>\n",
              "    <tr style=\"text-align: right;\">\n",
              "      <th></th>\n",
              "      <th>condominio</th>\n",
              "      <th>quartos</th>\n",
              "      <th>suites</th>\n",
              "      <th>vagas</th>\n",
              "      <th>area</th>\n",
              "      <th>bairro</th>\n",
              "      <th>preco</th>\n",
              "      <th>pm2</th>\n",
              "    </tr>\n",
              "  </thead>\n",
              "  <tbody>\n",
              "    <tr>\n",
              "      <th>466</th>\n",
              "      <td>600</td>\n",
              "      <td>1</td>\n",
              "      <td>1.0</td>\n",
              "      <td>0.0</td>\n",
              "      <td>90</td>\n",
              "      <td>Leblon</td>\n",
              "      <td>1350000</td>\n",
              "      <td>15000.00</td>\n",
              "    </tr>\n",
              "    <tr>\n",
              "      <th>467</th>\n",
              "      <td>650</td>\n",
              "      <td>1</td>\n",
              "      <td>1.0</td>\n",
              "      <td>1.0</td>\n",
              "      <td>45</td>\n",
              "      <td>Leblon</td>\n",
              "      <td>1299000</td>\n",
              "      <td>28866.67</td>\n",
              "    </tr>\n",
              "    <tr>\n",
              "      <th>468</th>\n",
              "      <td>1000</td>\n",
              "      <td>1</td>\n",
              "      <td>1.0</td>\n",
              "      <td>1.0</td>\n",
              "      <td>60</td>\n",
              "      <td>Leblon</td>\n",
              "      <td>895000</td>\n",
              "      <td>14916.67</td>\n",
              "    </tr>\n",
              "    <tr>\n",
              "      <th>469</th>\n",
              "      <td>1600</td>\n",
              "      <td>1</td>\n",
              "      <td>1.0</td>\n",
              "      <td>1.0</td>\n",
              "      <td>44</td>\n",
              "      <td>Leblon</td>\n",
              "      <td>1250000</td>\n",
              "      <td>28409.09</td>\n",
              "    </tr>\n",
              "    <tr>\n",
              "      <th>470</th>\n",
              "      <td>550</td>\n",
              "      <td>1</td>\n",
              "      <td>1.0</td>\n",
              "      <td>1.0</td>\n",
              "      <td>41</td>\n",
              "      <td>Leblon</td>\n",
              "      <td>935000</td>\n",
              "      <td>22804.88</td>\n",
              "    </tr>\n",
              "  </tbody>\n",
              "</table>\n",
              "</div>"
            ],
            "text/plain": [
              "     condominio  quartos  suites  vagas  area  bairro    preco       pm2\n",
              "466         600        1     1.0    0.0    90  Leblon  1350000  15000.00\n",
              "467         650        1     1.0    1.0    45  Leblon  1299000  28866.67\n",
              "468        1000        1     1.0    1.0    60  Leblon   895000  14916.67\n",
              "469        1600        1     1.0    1.0    44  Leblon  1250000  28409.09\n",
              "470         550        1     1.0    1.0    41  Leblon   935000  22804.88"
            ]
          },
          "metadata": {},
          "execution_count": 132
        }
      ]
    },
    {
      "cell_type": "code",
      "metadata": {
        "id": "jir9QvtIy8P_"
      },
      "source": [
        "riolrex2 = LinearRegression()"
      ],
      "execution_count": null,
      "outputs": []
    },
    {
      "cell_type": "code",
      "metadata": {
        "id": "cDjVJt9-nyUY"
      },
      "source": [
        "condominio2  = rioAptosLeblon['condominio'].values.reshape(-1,1) #variável independente\n",
        "preco2 = rioAptosLeblon['preco'].values.flatten()      #variável dependente"
      ],
      "execution_count": null,
      "outputs": []
    },
    {
      "cell_type": "code",
      "metadata": {
        "colab": {
          "base_uri": "https://localhost:8080/"
        },
        "id": "HGvoiFS0rtEZ",
        "outputId": "7d3e3bfe-6b31-41cf-c3c7-4f72b593760f"
      },
      "source": [
        "riolrex2.fit(condominio2,preco2)"
      ],
      "execution_count": null,
      "outputs": [
        {
          "output_type": "execute_result",
          "data": {
            "text/plain": [
              "LinearRegression(copy_X=True, fit_intercept=True, n_jobs=None, normalize=False)"
            ]
          },
          "metadata": {},
          "execution_count": 135
        }
      ]
    },
    {
      "cell_type": "code",
      "metadata": {
        "colab": {
          "base_uri": "https://localhost:8080/"
        },
        "id": "h800HGYwoOL_",
        "outputId": "5398d917-8484-412c-ba67-109ad650fb16"
      },
      "source": [
        "x = [1000] #Valor para a variável independente\n",
        "x_arr = np.array(x).reshape(-1,1) #prepara para o formato adequado\n",
        "y_pred  = riolrex2.predict(x_arr) #calcula a predição\n",
        "print('Condominio: ',x_arr.flatten())\n",
        "print('Preco : ', y_pred.flatten())"
      ],
      "execution_count": null,
      "outputs": [
        {
          "output_type": "stream",
          "name": "stdout",
          "text": [
            "Condominio:  [1000]\n",
            "Preco :  [1594183.21411728]\n"
          ]
        }
      ]
    },
    {
      "cell_type": "code",
      "metadata": {
        "id": "3IeV47IRr2bA"
      },
      "source": [
        "rioAptoscondex2= rioAptosLeblon['condominio']\n",
        "rioAptosprecoex2 = rioAptosLeblon['preco']"
      ],
      "execution_count": null,
      "outputs": []
    },
    {
      "cell_type": "code",
      "metadata": {
        "colab": {
          "base_uri": "https://localhost:8080/"
        },
        "id": "lROBxEwrr2XB",
        "outputId": "d30a445f-b3df-4a29-ec46-e426b31e1157"
      },
      "source": [
        "rioAptoscondex2.max()"
      ],
      "execution_count": null,
      "outputs": [
        {
          "output_type": "execute_result",
          "data": {
            "text/plain": [
              "6500"
            ]
          },
          "metadata": {},
          "execution_count": 144
        }
      ]
    },
    {
      "cell_type": "code",
      "metadata": {
        "colab": {
          "base_uri": "https://localhost:8080/"
        },
        "id": "-xv3rx62r2RU",
        "outputId": "4f4455a4-9652-4f1f-90d4-8ae484cbafa9"
      },
      "source": [
        "rioAptoscondex2.min()"
      ],
      "execution_count": null,
      "outputs": [
        {
          "output_type": "execute_result",
          "data": {
            "text/plain": [
              "320"
            ]
          },
          "metadata": {},
          "execution_count": 145
        }
      ]
    },
    {
      "cell_type": "code",
      "metadata": {
        "colab": {
          "base_uri": "https://localhost:8080/"
        },
        "id": "hbOdzUuCr2G1",
        "outputId": "632746cc-10c3-4c3b-b293-545003c540ab"
      },
      "source": [
        "rioAptosprecoex2.max()"
      ],
      "execution_count": null,
      "outputs": [
        {
          "output_type": "execute_result",
          "data": {
            "text/plain": [
              "10500000"
            ]
          },
          "metadata": {},
          "execution_count": 146
        }
      ]
    },
    {
      "cell_type": "code",
      "metadata": {
        "colab": {
          "base_uri": "https://localhost:8080/"
        },
        "id": "ejgxRVgVsZIA",
        "outputId": "185d2eab-03be-4505-c65b-d9b6f5c729b8"
      },
      "source": [
        "rioAptosprecoex2.min()"
      ],
      "execution_count": null,
      "outputs": [
        {
          "output_type": "execute_result",
          "data": {
            "text/plain": [
              "230000"
            ]
          },
          "metadata": {},
          "execution_count": 147
        }
      ]
    },
    {
      "cell_type": "markdown",
      "metadata": {
        "id": "TodqtEOIs6pC"
      },
      "source": [
        "Resposta Ex2 : "
      ]
    },
    {
      "cell_type": "code",
      "metadata": {
        "colab": {
          "base_uri": "https://localhost:8080/",
          "height": 292
        },
        "id": "KhRcFEyBohA2",
        "outputId": "7047271b-ac02-464a-e2fd-4cb6ccdfd75c"
      },
      "source": [
        "plt.scatter(rioAptos['condominio'], alunos['preco'])\n",
        "plt.scatter([1000],[1594183.21411728], color='red')\n",
        "plt.plot([320,230000],[6500,10500000], color='green')"
      ],
      "execution_count": null,
      "outputs": [
        {
          "output_type": "execute_result",
          "data": {
            "text/plain": [
              "[<matplotlib.lines.Line2D at 0x7f1f12086890>]"
            ]
          },
          "metadata": {},
          "execution_count": 148
        },
        {
          "output_type": "display_data",
          "data": {
            "image/png": "[encoded data removed]",
            "text/plain": [
              "<Figure size 432x288 with 1 Axes>"
            ]
          },
          "metadata": {
            "needs_background": "light"
          }
        }
      ]
    }
  ]
}